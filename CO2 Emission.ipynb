{
 "cells": [
  {
   "cell_type": "markdown",
   "id": "26daf37f",
   "metadata": {},
   "source": [
    "# Library"
   ]
  },
  {
   "cell_type": "code",
   "execution_count": 1,
   "id": "5c925539",
   "metadata": {},
   "outputs": [],
   "source": [
    "import pandas as pd\n",
    "import matplotlib.pyplot as plt\n",
    "import seaborn as sns\n",
    "import numpy as np"
   ]
  },
  {
   "cell_type": "markdown",
   "id": "e3c99b4f",
   "metadata": {},
   "source": [
    "# Load Dataset"
   ]
  },
  {
   "cell_type": "code",
   "execution_count": 2,
   "id": "9c35d8cb",
   "metadata": {},
   "outputs": [],
   "source": [
    "df = pd.read_csv(\"CO2_world_development_dataset.csv\")"
   ]
  },
  {
   "cell_type": "code",
   "execution_count": 3,
   "id": "97c5a195",
   "metadata": {},
   "outputs": [
    {
     "data": {
      "text/html": [
       "<div>\n",
       "<style scoped>\n",
       "    .dataframe tbody tr th:only-of-type {\n",
       "        vertical-align: middle;\n",
       "    }\n",
       "\n",
       "    .dataframe tbody tr th {\n",
       "        vertical-align: top;\n",
       "    }\n",
       "\n",
       "    .dataframe thead th {\n",
       "        text-align: right;\n",
       "    }\n",
       "</style>\n",
       "<table border=\"1\" class=\"dataframe\">\n",
       "  <thead>\n",
       "    <tr style=\"text-align: right;\">\n",
       "      <th></th>\n",
       "      <th>Country Name</th>\n",
       "      <th>Country Code</th>\n",
       "      <th>Series Name</th>\n",
       "      <th>Series Code</th>\n",
       "      <th>1990 [YR1990]</th>\n",
       "      <th>1995 [YR1995]</th>\n",
       "      <th>2000 [YR2000]</th>\n",
       "      <th>2005 [YR2005]</th>\n",
       "      <th>2010 [YR2010]</th>\n",
       "      <th>2015 [YR2015]</th>\n",
       "    </tr>\n",
       "  </thead>\n",
       "  <tbody>\n",
       "    <tr>\n",
       "      <th>0</th>\n",
       "      <td>France</td>\n",
       "      <td>FRA</td>\n",
       "      <td>CO2 emissions (metric tons per capita)</td>\n",
       "      <td>EN.ATM.CO2E.PC</td>\n",
       "      <td>6.117208</td>\n",
       "      <td>5.915834</td>\n",
       "      <td>6.125508</td>\n",
       "      <td>6.025069</td>\n",
       "      <td>5.348198</td>\n",
       "      <td>4.677807</td>\n",
       "    </tr>\n",
       "    <tr>\n",
       "      <th>1</th>\n",
       "      <td>France</td>\n",
       "      <td>FRA</td>\n",
       "      <td>Agricultural methane emissions (thousand metri...</td>\n",
       "      <td>EN.ATM.METH.AG.KT.CE</td>\n",
       "      <td>50390.000000</td>\n",
       "      <td>47310.000000</td>\n",
       "      <td>48120.000000</td>\n",
       "      <td>44430.000000</td>\n",
       "      <td>43900.000000</td>\n",
       "      <td>43010.000000</td>\n",
       "    </tr>\n",
       "    <tr>\n",
       "      <th>2</th>\n",
       "      <td>Portugal</td>\n",
       "      <td>PRT</td>\n",
       "      <td>CO2 emissions (metric tons per capita)</td>\n",
       "      <td>EN.ATM.CO2E.PC</td>\n",
       "      <td>4.113904</td>\n",
       "      <td>5.055766</td>\n",
       "      <td>5.992285</td>\n",
       "      <td>6.233261</td>\n",
       "      <td>4.817887</td>\n",
       "      <td>4.812670</td>\n",
       "    </tr>\n",
       "    <tr>\n",
       "      <th>3</th>\n",
       "      <td>Portugal</td>\n",
       "      <td>PRT</td>\n",
       "      <td>Agricultural methane emissions (thousand metri...</td>\n",
       "      <td>EN.ATM.METH.AG.KT.CE</td>\n",
       "      <td>5260.000000</td>\n",
       "      <td>4980.000000</td>\n",
       "      <td>4980.000000</td>\n",
       "      <td>4660.000000</td>\n",
       "      <td>4450.000000</td>\n",
       "      <td>4750.000000</td>\n",
       "    </tr>\n",
       "    <tr>\n",
       "      <th>4</th>\n",
       "      <td>Germany</td>\n",
       "      <td>DEU</td>\n",
       "      <td>CO2 emissions (metric tons per capita)</td>\n",
       "      <td>EN.ATM.CO2E.PC</td>\n",
       "      <td>12.026609</td>\n",
       "      <td>10.708630</td>\n",
       "      <td>10.099316</td>\n",
       "      <td>9.729424</td>\n",
       "      <td>9.453400</td>\n",
       "      <td>9.087291</td>\n",
       "    </tr>\n",
       "    <tr>\n",
       "      <th>5</th>\n",
       "      <td>Germany</td>\n",
       "      <td>DEU</td>\n",
       "      <td>Agricultural methane emissions (thousand metri...</td>\n",
       "      <td>EN.ATM.METH.AG.KT.CE</td>\n",
       "      <td>52060.000000</td>\n",
       "      <td>41150.000000</td>\n",
       "      <td>37960.000000</td>\n",
       "      <td>34830.000000</td>\n",
       "      <td>34200.000000</td>\n",
       "      <td>34260.000000</td>\n",
       "    </tr>\n",
       "    <tr>\n",
       "      <th>6</th>\n",
       "      <td>Japan</td>\n",
       "      <td>JPN</td>\n",
       "      <td>CO2 emissions (metric tons per capita)</td>\n",
       "      <td>EN.ATM.CO2E.PC</td>\n",
       "      <td>8.831776</td>\n",
       "      <td>9.332839</td>\n",
       "      <td>9.323416</td>\n",
       "      <td>9.491989</td>\n",
       "      <td>9.030062</td>\n",
       "      <td>9.276629</td>\n",
       "    </tr>\n",
       "    <tr>\n",
       "      <th>7</th>\n",
       "      <td>Japan</td>\n",
       "      <td>JPN</td>\n",
       "      <td>Agricultural methane emissions (thousand metri...</td>\n",
       "      <td>EN.ATM.METH.AG.KT.CE</td>\n",
       "      <td>19000.000000</td>\n",
       "      <td>19240.000000</td>\n",
       "      <td>16900.000000</td>\n",
       "      <td>16220.000000</td>\n",
       "      <td>15800.000000</td>\n",
       "      <td>14770.000000</td>\n",
       "    </tr>\n",
       "    <tr>\n",
       "      <th>8</th>\n",
       "      <td>NaN</td>\n",
       "      <td>NaN</td>\n",
       "      <td>NaN</td>\n",
       "      <td>NaN</td>\n",
       "      <td>NaN</td>\n",
       "      <td>NaN</td>\n",
       "      <td>NaN</td>\n",
       "      <td>NaN</td>\n",
       "      <td>NaN</td>\n",
       "      <td>NaN</td>\n",
       "    </tr>\n",
       "    <tr>\n",
       "      <th>9</th>\n",
       "      <td>NaN</td>\n",
       "      <td>NaN</td>\n",
       "      <td>NaN</td>\n",
       "      <td>NaN</td>\n",
       "      <td>NaN</td>\n",
       "      <td>NaN</td>\n",
       "      <td>NaN</td>\n",
       "      <td>NaN</td>\n",
       "      <td>NaN</td>\n",
       "      <td>NaN</td>\n",
       "    </tr>\n",
       "    <tr>\n",
       "      <th>10</th>\n",
       "      <td>NaN</td>\n",
       "      <td>NaN</td>\n",
       "      <td>NaN</td>\n",
       "      <td>NaN</td>\n",
       "      <td>NaN</td>\n",
       "      <td>NaN</td>\n",
       "      <td>NaN</td>\n",
       "      <td>NaN</td>\n",
       "      <td>NaN</td>\n",
       "      <td>NaN</td>\n",
       "    </tr>\n",
       "    <tr>\n",
       "      <th>11</th>\n",
       "      <td>Data from database: World Development Indicators</td>\n",
       "      <td>NaN</td>\n",
       "      <td>NaN</td>\n",
       "      <td>NaN</td>\n",
       "      <td>NaN</td>\n",
       "      <td>NaN</td>\n",
       "      <td>NaN</td>\n",
       "      <td>NaN</td>\n",
       "      <td>NaN</td>\n",
       "      <td>NaN</td>\n",
       "    </tr>\n",
       "    <tr>\n",
       "      <th>12</th>\n",
       "      <td>Last Updated: 09/16/2022</td>\n",
       "      <td>NaN</td>\n",
       "      <td>NaN</td>\n",
       "      <td>NaN</td>\n",
       "      <td>NaN</td>\n",
       "      <td>NaN</td>\n",
       "      <td>NaN</td>\n",
       "      <td>NaN</td>\n",
       "      <td>NaN</td>\n",
       "      <td>NaN</td>\n",
       "    </tr>\n",
       "  </tbody>\n",
       "</table>\n",
       "</div>"
      ],
      "text/plain": [
       "                                        Country Name Country Code  \\\n",
       "0                                             France          FRA   \n",
       "1                                             France          FRA   \n",
       "2                                           Portugal          PRT   \n",
       "3                                           Portugal          PRT   \n",
       "4                                            Germany          DEU   \n",
       "5                                            Germany          DEU   \n",
       "6                                              Japan          JPN   \n",
       "7                                              Japan          JPN   \n",
       "8                                                NaN          NaN   \n",
       "9                                                NaN          NaN   \n",
       "10                                               NaN          NaN   \n",
       "11  Data from database: World Development Indicators          NaN   \n",
       "12                          Last Updated: 09/16/2022          NaN   \n",
       "\n",
       "                                          Series Name           Series Code  \\\n",
       "0              CO2 emissions (metric tons per capita)        EN.ATM.CO2E.PC   \n",
       "1   Agricultural methane emissions (thousand metri...  EN.ATM.METH.AG.KT.CE   \n",
       "2              CO2 emissions (metric tons per capita)        EN.ATM.CO2E.PC   \n",
       "3   Agricultural methane emissions (thousand metri...  EN.ATM.METH.AG.KT.CE   \n",
       "4              CO2 emissions (metric tons per capita)        EN.ATM.CO2E.PC   \n",
       "5   Agricultural methane emissions (thousand metri...  EN.ATM.METH.AG.KT.CE   \n",
       "6              CO2 emissions (metric tons per capita)        EN.ATM.CO2E.PC   \n",
       "7   Agricultural methane emissions (thousand metri...  EN.ATM.METH.AG.KT.CE   \n",
       "8                                                 NaN                   NaN   \n",
       "9                                                 NaN                   NaN   \n",
       "10                                                NaN                   NaN   \n",
       "11                                                NaN                   NaN   \n",
       "12                                                NaN                   NaN   \n",
       "\n",
       "    1990 [YR1990]  1995 [YR1995]  2000 [YR2000]  2005 [YR2005]  2010 [YR2010]  \\\n",
       "0        6.117208       5.915834       6.125508       6.025069       5.348198   \n",
       "1    50390.000000   47310.000000   48120.000000   44430.000000   43900.000000   \n",
       "2        4.113904       5.055766       5.992285       6.233261       4.817887   \n",
       "3     5260.000000    4980.000000    4980.000000    4660.000000    4450.000000   \n",
       "4       12.026609      10.708630      10.099316       9.729424       9.453400   \n",
       "5    52060.000000   41150.000000   37960.000000   34830.000000   34200.000000   \n",
       "6        8.831776       9.332839       9.323416       9.491989       9.030062   \n",
       "7    19000.000000   19240.000000   16900.000000   16220.000000   15800.000000   \n",
       "8             NaN            NaN            NaN            NaN            NaN   \n",
       "9             NaN            NaN            NaN            NaN            NaN   \n",
       "10            NaN            NaN            NaN            NaN            NaN   \n",
       "11            NaN            NaN            NaN            NaN            NaN   \n",
       "12            NaN            NaN            NaN            NaN            NaN   \n",
       "\n",
       "    2015 [YR2015]  \n",
       "0        4.677807  \n",
       "1    43010.000000  \n",
       "2        4.812670  \n",
       "3     4750.000000  \n",
       "4        9.087291  \n",
       "5    34260.000000  \n",
       "6        9.276629  \n",
       "7    14770.000000  \n",
       "8             NaN  \n",
       "9             NaN  \n",
       "10            NaN  \n",
       "11            NaN  \n",
       "12            NaN  "
      ]
     },
     "execution_count": 3,
     "metadata": {},
     "output_type": "execute_result"
    }
   ],
   "source": [
    "df"
   ]
  },
  {
   "cell_type": "markdown",
   "id": "f479c3d5",
   "metadata": {},
   "source": [
    "# Remove None Value"
   ]
  },
  {
   "cell_type": "code",
   "execution_count": 4,
   "id": "0a9e77d2",
   "metadata": {},
   "outputs": [],
   "source": [
    "df = df.dropna(axis=0) "
   ]
  },
  {
   "cell_type": "code",
   "execution_count": 5,
   "id": "00c0e103",
   "metadata": {},
   "outputs": [
    {
     "data": {
      "text/html": [
       "<div>\n",
       "<style scoped>\n",
       "    .dataframe tbody tr th:only-of-type {\n",
       "        vertical-align: middle;\n",
       "    }\n",
       "\n",
       "    .dataframe tbody tr th {\n",
       "        vertical-align: top;\n",
       "    }\n",
       "\n",
       "    .dataframe thead th {\n",
       "        text-align: right;\n",
       "    }\n",
       "</style>\n",
       "<table border=\"1\" class=\"dataframe\">\n",
       "  <thead>\n",
       "    <tr style=\"text-align: right;\">\n",
       "      <th></th>\n",
       "      <th>Country Name</th>\n",
       "      <th>Country Code</th>\n",
       "      <th>Series Name</th>\n",
       "      <th>Series Code</th>\n",
       "      <th>1990 [YR1990]</th>\n",
       "      <th>1995 [YR1995]</th>\n",
       "      <th>2000 [YR2000]</th>\n",
       "      <th>2005 [YR2005]</th>\n",
       "      <th>2010 [YR2010]</th>\n",
       "      <th>2015 [YR2015]</th>\n",
       "    </tr>\n",
       "  </thead>\n",
       "  <tbody>\n",
       "    <tr>\n",
       "      <th>0</th>\n",
       "      <td>France</td>\n",
       "      <td>FRA</td>\n",
       "      <td>CO2 emissions (metric tons per capita)</td>\n",
       "      <td>EN.ATM.CO2E.PC</td>\n",
       "      <td>6.117208</td>\n",
       "      <td>5.915834</td>\n",
       "      <td>6.125508</td>\n",
       "      <td>6.025069</td>\n",
       "      <td>5.348198</td>\n",
       "      <td>4.677807</td>\n",
       "    </tr>\n",
       "    <tr>\n",
       "      <th>1</th>\n",
       "      <td>France</td>\n",
       "      <td>FRA</td>\n",
       "      <td>Agricultural methane emissions (thousand metri...</td>\n",
       "      <td>EN.ATM.METH.AG.KT.CE</td>\n",
       "      <td>50390.000000</td>\n",
       "      <td>47310.000000</td>\n",
       "      <td>48120.000000</td>\n",
       "      <td>44430.000000</td>\n",
       "      <td>43900.000000</td>\n",
       "      <td>43010.000000</td>\n",
       "    </tr>\n",
       "    <tr>\n",
       "      <th>2</th>\n",
       "      <td>Portugal</td>\n",
       "      <td>PRT</td>\n",
       "      <td>CO2 emissions (metric tons per capita)</td>\n",
       "      <td>EN.ATM.CO2E.PC</td>\n",
       "      <td>4.113904</td>\n",
       "      <td>5.055766</td>\n",
       "      <td>5.992285</td>\n",
       "      <td>6.233261</td>\n",
       "      <td>4.817887</td>\n",
       "      <td>4.812670</td>\n",
       "    </tr>\n",
       "    <tr>\n",
       "      <th>3</th>\n",
       "      <td>Portugal</td>\n",
       "      <td>PRT</td>\n",
       "      <td>Agricultural methane emissions (thousand metri...</td>\n",
       "      <td>EN.ATM.METH.AG.KT.CE</td>\n",
       "      <td>5260.000000</td>\n",
       "      <td>4980.000000</td>\n",
       "      <td>4980.000000</td>\n",
       "      <td>4660.000000</td>\n",
       "      <td>4450.000000</td>\n",
       "      <td>4750.000000</td>\n",
       "    </tr>\n",
       "    <tr>\n",
       "      <th>4</th>\n",
       "      <td>Germany</td>\n",
       "      <td>DEU</td>\n",
       "      <td>CO2 emissions (metric tons per capita)</td>\n",
       "      <td>EN.ATM.CO2E.PC</td>\n",
       "      <td>12.026609</td>\n",
       "      <td>10.708630</td>\n",
       "      <td>10.099316</td>\n",
       "      <td>9.729424</td>\n",
       "      <td>9.453400</td>\n",
       "      <td>9.087291</td>\n",
       "    </tr>\n",
       "    <tr>\n",
       "      <th>5</th>\n",
       "      <td>Germany</td>\n",
       "      <td>DEU</td>\n",
       "      <td>Agricultural methane emissions (thousand metri...</td>\n",
       "      <td>EN.ATM.METH.AG.KT.CE</td>\n",
       "      <td>52060.000000</td>\n",
       "      <td>41150.000000</td>\n",
       "      <td>37960.000000</td>\n",
       "      <td>34830.000000</td>\n",
       "      <td>34200.000000</td>\n",
       "      <td>34260.000000</td>\n",
       "    </tr>\n",
       "    <tr>\n",
       "      <th>6</th>\n",
       "      <td>Japan</td>\n",
       "      <td>JPN</td>\n",
       "      <td>CO2 emissions (metric tons per capita)</td>\n",
       "      <td>EN.ATM.CO2E.PC</td>\n",
       "      <td>8.831776</td>\n",
       "      <td>9.332839</td>\n",
       "      <td>9.323416</td>\n",
       "      <td>9.491989</td>\n",
       "      <td>9.030062</td>\n",
       "      <td>9.276629</td>\n",
       "    </tr>\n",
       "    <tr>\n",
       "      <th>7</th>\n",
       "      <td>Japan</td>\n",
       "      <td>JPN</td>\n",
       "      <td>Agricultural methane emissions (thousand metri...</td>\n",
       "      <td>EN.ATM.METH.AG.KT.CE</td>\n",
       "      <td>19000.000000</td>\n",
       "      <td>19240.000000</td>\n",
       "      <td>16900.000000</td>\n",
       "      <td>16220.000000</td>\n",
       "      <td>15800.000000</td>\n",
       "      <td>14770.000000</td>\n",
       "    </tr>\n",
       "  </tbody>\n",
       "</table>\n",
       "</div>"
      ],
      "text/plain": [
       "  Country Name Country Code  \\\n",
       "0       France          FRA   \n",
       "1       France          FRA   \n",
       "2     Portugal          PRT   \n",
       "3     Portugal          PRT   \n",
       "4      Germany          DEU   \n",
       "5      Germany          DEU   \n",
       "6        Japan          JPN   \n",
       "7        Japan          JPN   \n",
       "\n",
       "                                         Series Name           Series Code  \\\n",
       "0             CO2 emissions (metric tons per capita)        EN.ATM.CO2E.PC   \n",
       "1  Agricultural methane emissions (thousand metri...  EN.ATM.METH.AG.KT.CE   \n",
       "2             CO2 emissions (metric tons per capita)        EN.ATM.CO2E.PC   \n",
       "3  Agricultural methane emissions (thousand metri...  EN.ATM.METH.AG.KT.CE   \n",
       "4             CO2 emissions (metric tons per capita)        EN.ATM.CO2E.PC   \n",
       "5  Agricultural methane emissions (thousand metri...  EN.ATM.METH.AG.KT.CE   \n",
       "6             CO2 emissions (metric tons per capita)        EN.ATM.CO2E.PC   \n",
       "7  Agricultural methane emissions (thousand metri...  EN.ATM.METH.AG.KT.CE   \n",
       "\n",
       "   1990 [YR1990]  1995 [YR1995]  2000 [YR2000]  2005 [YR2005]  2010 [YR2010]  \\\n",
       "0       6.117208       5.915834       6.125508       6.025069       5.348198   \n",
       "1   50390.000000   47310.000000   48120.000000   44430.000000   43900.000000   \n",
       "2       4.113904       5.055766       5.992285       6.233261       4.817887   \n",
       "3    5260.000000    4980.000000    4980.000000    4660.000000    4450.000000   \n",
       "4      12.026609      10.708630      10.099316       9.729424       9.453400   \n",
       "5   52060.000000   41150.000000   37960.000000   34830.000000   34200.000000   \n",
       "6       8.831776       9.332839       9.323416       9.491989       9.030062   \n",
       "7   19000.000000   19240.000000   16900.000000   16220.000000   15800.000000   \n",
       "\n",
       "   2015 [YR2015]  \n",
       "0       4.677807  \n",
       "1   43010.000000  \n",
       "2       4.812670  \n",
       "3    4750.000000  \n",
       "4       9.087291  \n",
       "5   34260.000000  \n",
       "6       9.276629  \n",
       "7   14770.000000  "
      ]
     },
     "execution_count": 5,
     "metadata": {},
     "output_type": "execute_result"
    }
   ],
   "source": [
    "df"
   ]
  },
  {
   "cell_type": "markdown",
   "id": "8b6e1173",
   "metadata": {},
   "source": [
    "# Rename Column of Dataset"
   ]
  },
  {
   "cell_type": "code",
   "execution_count": 6,
   "id": "5f065d3b",
   "metadata": {},
   "outputs": [
    {
     "name": "stderr",
     "output_type": "stream",
     "text": [
      "C:\\Users\\uer\\anaconda3\\lib\\site-packages\\pandas\\core\\frame.py:5039: SettingWithCopyWarning: \n",
      "A value is trying to be set on a copy of a slice from a DataFrame\n",
      "\n",
      "See the caveats in the documentation: https://pandas.pydata.org/pandas-docs/stable/user_guide/indexing.html#returning-a-view-versus-a-copy\n",
      "  return super().rename(\n"
     ]
    }
   ],
   "source": [
    "df.rename(columns={'Country Name': 'country'}, inplace=True)"
   ]
  },
  {
   "cell_type": "code",
   "execution_count": 7,
   "id": "8b7b0e8c",
   "metadata": {},
   "outputs": [
    {
     "data": {
      "text/html": [
       "<div>\n",
       "<style scoped>\n",
       "    .dataframe tbody tr th:only-of-type {\n",
       "        vertical-align: middle;\n",
       "    }\n",
       "\n",
       "    .dataframe tbody tr th {\n",
       "        vertical-align: top;\n",
       "    }\n",
       "\n",
       "    .dataframe thead th {\n",
       "        text-align: right;\n",
       "    }\n",
       "</style>\n",
       "<table border=\"1\" class=\"dataframe\">\n",
       "  <thead>\n",
       "    <tr style=\"text-align: right;\">\n",
       "      <th></th>\n",
       "      <th>country</th>\n",
       "      <th>Country Code</th>\n",
       "      <th>Series Name</th>\n",
       "      <th>Series Code</th>\n",
       "      <th>1990 [YR1990]</th>\n",
       "      <th>1995 [YR1995]</th>\n",
       "      <th>2000 [YR2000]</th>\n",
       "      <th>2005 [YR2005]</th>\n",
       "      <th>2010 [YR2010]</th>\n",
       "      <th>2015 [YR2015]</th>\n",
       "    </tr>\n",
       "  </thead>\n",
       "  <tbody>\n",
       "    <tr>\n",
       "      <th>0</th>\n",
       "      <td>France</td>\n",
       "      <td>FRA</td>\n",
       "      <td>CO2 emissions (metric tons per capita)</td>\n",
       "      <td>EN.ATM.CO2E.PC</td>\n",
       "      <td>6.117208</td>\n",
       "      <td>5.915834</td>\n",
       "      <td>6.125508</td>\n",
       "      <td>6.025069</td>\n",
       "      <td>5.348198</td>\n",
       "      <td>4.677807</td>\n",
       "    </tr>\n",
       "  </tbody>\n",
       "</table>\n",
       "</div>"
      ],
      "text/plain": [
       "  country Country Code                             Series Name  \\\n",
       "0  France          FRA  CO2 emissions (metric tons per capita)   \n",
       "\n",
       "      Series Code  1990 [YR1990]  1995 [YR1995]  2000 [YR2000]  2005 [YR2005]  \\\n",
       "0  EN.ATM.CO2E.PC       6.117208       5.915834       6.125508       6.025069   \n",
       "\n",
       "   2010 [YR2010]  2015 [YR2015]  \n",
       "0       5.348198       4.677807  "
      ]
     },
     "execution_count": 7,
     "metadata": {},
     "output_type": "execute_result"
    }
   ],
   "source": [
    "df.head(1)"
   ]
  },
  {
   "cell_type": "markdown",
   "id": "c257e444",
   "metadata": {},
   "source": [
    "# Divide dataset for Population growth & Energy Consumption"
   ]
  },
  {
   "cell_type": "code",
   "execution_count": 8,
   "id": "1557f042",
   "metadata": {},
   "outputs": [],
   "source": [
    "df1  = df.loc[df['Series Code'] == \"EN.ATM.CO2E.PC\"]\n",
    "df2  = df.loc[df['Series Code'] == \"EN.ATM.METH.AG.KT.CE\"]"
   ]
  },
  {
   "cell_type": "markdown",
   "id": "c5363f89",
   "metadata": {},
   "source": [
    "# Remove unnecessary column"
   ]
  },
  {
   "cell_type": "code",
   "execution_count": 9,
   "id": "cef8f81f",
   "metadata": {},
   "outputs": [
    {
     "name": "stderr",
     "output_type": "stream",
     "text": [
      "C:\\Users\\uer\\anaconda3\\lib\\site-packages\\pandas\\core\\frame.py:4906: SettingWithCopyWarning: \n",
      "A value is trying to be set on a copy of a slice from a DataFrame\n",
      "\n",
      "See the caveats in the documentation: https://pandas.pydata.org/pandas-docs/stable/user_guide/indexing.html#returning-a-view-versus-a-copy\n",
      "  return super().drop(\n"
     ]
    }
   ],
   "source": [
    "df1.drop(['Country Code','Series Name', 'Series Code'], axis=1, inplace=True)\n",
    "df2.drop(['Country Code','Series Name', 'Series Code'], axis=1, inplace=True)"
   ]
  },
  {
   "cell_type": "code",
   "execution_count": 10,
   "id": "3c38cd09",
   "metadata": {},
   "outputs": [],
   "source": [
    "df1.set_index('country', inplace=True)\n",
    "df2.set_index('country', inplace=True)"
   ]
  },
  {
   "cell_type": "markdown",
   "id": "38685a9a",
   "metadata": {},
   "source": [
    "# Graph Plot Functions\n",
    "    - These function get different parameters\n",
    "    - Dataframe \n",
    "    - Countries Name \n",
    "    - Years \n",
    "    - Title of graph\n",
    "    - filename that saved in local file"
   ]
  },
  {
   "cell_type": "code",
   "execution_count": 11,
   "id": "8b0a20ea",
   "metadata": {},
   "outputs": [],
   "source": [
    "def graph_plot(df, countries, years, title, filename):\n",
    "    # figure size is the graph image size\n",
    "    # This is a simple graph.\n",
    "    df.loc[countries, years].T.plot(figsize=(14, 8)) \n",
    "    title = plt.title(title) \n",
    "    plt.savefig(filename)\n",
    "    plt.show()"
   ]
  },
  {
   "cell_type": "code",
   "execution_count": 12,
   "id": "45d22425",
   "metadata": {},
   "outputs": [],
   "source": [
    "def graph_plot2(df, countries, years, title,  filename):\n",
    "    # figure size is the graph image size\n",
    "    # This graph type is Area.\n",
    "    df.loc[countries, years].T.plot(kind='area', figsize=(14, 8))\n",
    "    title = plt.title(title)\n",
    "    plt.savefig(filename)\n",
    "    plt.show()"
   ]
  },
  {
   "cell_type": "code",
   "execution_count": 13,
   "id": "e574470e",
   "metadata": {},
   "outputs": [],
   "source": [
    "def graph_bar(df, country, years, title, filename):\n",
    "    # figure size is the graph image size\n",
    "    # This is Bar graph\n",
    "    df.loc[country, years].plot(kind='bar',figsize=(14, 8))\n",
    "    title = plt.title(title)\n",
    "    plt.savefig(filename)\n",
    "    plt.show()"
   ]
  },
  {
   "cell_type": "code",
   "execution_count": 14,
   "id": "ab6124af",
   "metadata": {},
   "outputs": [],
   "source": [
    "def graph_barh(df, countries, years, title, filename):\n",
    "    # figure size is the graph image size\n",
    "    # This is Barh graph\n",
    "    df.loc[countries, years].transpose().plot(kind='barh', figsize=(20, 14), stacked=False)\n",
    "    title = plt.title(title)\n",
    "    plt.savefig(filename)\n",
    "    plt.show()"
   ]
  },
  {
   "cell_type": "code",
   "execution_count": 15,
   "id": "dd9b78a9",
   "metadata": {},
   "outputs": [],
   "source": [
    "def heatmap(data, row_labels, col_labels, ax=None,\n",
    "            cbar_kw=None, cbarlabel=\"\", **kwargs):\n",
    "# Create a heatmap from a numpy array and two lists of labels.\n",
    "#     - data - A 2D numpy array of shape (M, N).\n",
    "#     - row_labels - A list or array of length M with the labels for the rows.\n",
    "#     - col_labels - A list or array of length N with the labels for the columns.\n",
    "\n",
    "    if ax is None:\n",
    "        ax = plt.gca()\n",
    "\n",
    "    if cbar_kw is None:\n",
    "        cbar_kw = {}\n",
    "\n",
    "    # Plot the heatmap\n",
    "    im = ax.imshow(data, **kwargs)\n",
    "\n",
    "    # Create colorbar\n",
    "    cbar = ax.figure.colorbar(im, ax=ax, **cbar_kw)\n",
    "    cbar.ax.set_ylabel(cbarlabel, rotation=-90, va=\"bottom\")\n",
    "\n",
    "    # Show all ticks and label them with the respective list entries.\n",
    "    ax.set_xticks(np.arange(data.shape[1]), labels=col_labels)\n",
    "    ax.set_yticks(np.arange(data.shape[0]), labels=row_labels)\n",
    "\n",
    "    # Let the horizontal axes labeling appear on top.\n",
    "    ax.tick_params(top=True, bottom=False,\n",
    "                   labeltop=True, labelbottom=False)\n",
    "\n",
    "    # Rotate the tick labels and set their alignment.\n",
    "    plt.setp(ax.get_xticklabels(), rotation=-30, ha=\"right\",\n",
    "             rotation_mode=\"anchor\")\n",
    "\n",
    "    # Turn spines off and create white grid.\n",
    "    ax.spines[:].set_visible(False)\n",
    "\n",
    "    ax.set_xticks(np.arange(data.shape[1]+1)-.5, minor=True)\n",
    "    ax.set_yticks(np.arange(data.shape[0]+1)-.5, minor=True)\n",
    "    ax.grid(which=\"minor\", color=\"w\", linestyle='-', linewidth=3)\n",
    "    ax.tick_params(which=\"minor\", bottom=False, left=False)\n",
    "\n",
    "    return im, cbar\n"
   ]
  },
  {
   "cell_type": "code",
   "execution_count": 16,
   "id": "c0908f07",
   "metadata": {},
   "outputs": [],
   "source": [
    "def graph_heatmap(df, countries, years, title, filename):\n",
    "    fig, ax = plt.subplots(figsize=(7, 7))\n",
    "    \n",
    "    im, cbar = heatmap(df[years].T, df[years], countries, ax=ax,\n",
    "                       cmap=\"magma\", cbarlabel=title)\n",
    "    plt.savefig(filename)\n",
    "    fig.tight_layout()\n",
    "    plt.show()"
   ]
  },
  {
   "cell_type": "code",
   "execution_count": null,
   "id": "95af3cc9",
   "metadata": {},
   "outputs": [],
   "source": []
  },
  {
   "cell_type": "markdown",
   "id": "4014f80f",
   "metadata": {},
   "source": [
    "# Years & Country Information\n",
    "    - Year used 1980-2015\n",
    "    - Countries used 'France', 'Portugal', 'Japan', 'Germany'"
   ]
  },
  {
   "cell_type": "code",
   "execution_count": null,
   "id": "497f290e",
   "metadata": {},
   "outputs": [],
   "source": []
  },
  {
   "cell_type": "code",
   "execution_count": 17,
   "id": "93764e12",
   "metadata": {},
   "outputs": [],
   "source": [
    "# years = list(population_growth.columns)\n",
    "years = ['1990 [YR1990]', '1995 [YR1995]', '2000 [YR2000]', \n",
    "         '2005 [YR2005]', '2010 [YR2010]', '2015 [YR2015]']\n",
    "\n",
    "countries = ['France', 'Portugal', 'Japan', 'Germany']"
   ]
  },
  {
   "cell_type": "code",
   "execution_count": null,
   "id": "8d17ad5e",
   "metadata": {},
   "outputs": [],
   "source": []
  },
  {
   "cell_type": "markdown",
   "id": "bf90f29f",
   "metadata": {},
   "source": [
    "# CO2 emissions Line Graph "
   ]
  },
  {
   "cell_type": "code",
   "execution_count": 19,
   "id": "dc3f70e4",
   "metadata": {},
   "outputs": [
    {
     "data": {
      "image/png": "[encoded data removed]",
      "text/plain": [
       "<Figure size 1008x576 with 1 Axes>"
      ]
     },
     "metadata": {
      "needs_background": "light"
     },
     "output_type": "display_data"
    }
   ],
   "source": [
    "graph_plot(df1, countries, years, \"CO2 emissions (metric tons per capita)\", \"pic_1.jpg\")"
   ]
  },
  {
   "cell_type": "markdown",
   "id": "af13b3ed",
   "metadata": {},
   "source": [
    "# CO2 emissions Bar Graph"
   ]
  },
  {
   "cell_type": "code",
   "execution_count": 20,
   "id": "08803167",
   "metadata": {},
   "outputs": [
    {
     "data": {
      "image/png": "[encoded data removed]",
      "text/plain": [
       "<Figure size 1008x576 with 1 Axes>"
      ]
     },
     "metadata": {
      "needs_background": "light"
     },
     "output_type": "display_data"
    }
   ],
   "source": [
    "graph_bar(df1, countries, years, 'CO2 emissions (metric tons per capita)', \"pic_2.jpg\")"
   ]
  },
  {
   "cell_type": "markdown",
   "id": "250b602a",
   "metadata": {},
   "source": [
    "# CO2 emissions HeatMap"
   ]
  },
  {
   "cell_type": "code",
   "execution_count": 21,
   "id": "109114ca",
   "metadata": {},
   "outputs": [
    {
     "data": {
      "image/png": "[encoded data removed]",
      "text/plain": [
       "<Figure size 504x504 with 2 Axes>"
      ]
     },
     "metadata": {
      "needs_background": "light"
     },
     "output_type": "display_data"
    }
   ],
   "source": [
    "graph_heatmap(df1, countries, years, \"CO2 emissions (metric tons per capita)\", \"pic_3.jpg\")"
   ]
  },
  {
   "cell_type": "markdown",
   "id": "bd23510a",
   "metadata": {},
   "source": [
    "# Agricultural methane emissions Line Graph"
   ]
  },
  {
   "cell_type": "code",
   "execution_count": 22,
   "id": "737b4046",
   "metadata": {},
   "outputs": [
    {
     "data": {
      "image/png": "[encoded data removed]",
      "text/plain": [
       "<Figure size 1008x576 with 1 Axes>"
      ]
     },
     "metadata": {
      "needs_background": "light"
     },
     "output_type": "display_data"
    }
   ],
   "source": [
    "graph_plot(df2, countries, years, 'Agricultural methane emissions (thousand metric tons of CO2 equivalent)', \"pic_4.jpg\")"
   ]
  },
  {
   "cell_type": "markdown",
   "id": "7ad87d8a",
   "metadata": {},
   "source": [
    "# Agricultural methane emissions Bar Graph"
   ]
  },
  {
   "cell_type": "code",
   "execution_count": 23,
   "id": "8f7f22ea",
   "metadata": {},
   "outputs": [
    {
     "data": {
      "image/png": "[encoded data removed]",
      "text/plain": [
       "<Figure size 1008x576 with 1 Axes>"
      ]
     },
     "metadata": {
      "needs_background": "light"
     },
     "output_type": "display_data"
    }
   ],
   "source": [
    "graph_bar(df2, countries, years, 'Agricultural methane emissions (thousand metric tons of CO2 equivalent)', \"pic_5.jpg\")"
   ]
  },
  {
   "cell_type": "markdown",
   "id": "5b4786fc",
   "metadata": {},
   "source": [
    "# Agricultural methane emissions Heat Graph"
   ]
  },
  {
   "cell_type": "code",
   "execution_count": 24,
   "id": "b78778b7",
   "metadata": {},
   "outputs": [
    {
     "data": {
      "image/png": "[encoded data removed]",
      "text/plain": [
       "<Figure size 504x504 with 2 Axes>"
      ]
     },
     "metadata": {
      "needs_background": "light"
     },
     "output_type": "display_data"
    }
   ],
   "source": [
    "graph_heatmap(df2, countries, years, \"Agricultural methane emissions (thousand metric tons of CO2 equivalent)\", \"pic_6.jpg\")"
   ]
  },
  {
   "cell_type": "code",
   "execution_count": null,
   "id": "b8ed7156",
   "metadata": {},
   "outputs": [],
   "source": []
  },
  {
   "cell_type": "code",
   "execution_count": 25,
   "id": "40f59790",
   "metadata": {},
   "outputs": [
    {
     "data": {
      "text/html": [
       "<div>\n",
       "<style scoped>\n",
       "    .dataframe tbody tr th:only-of-type {\n",
       "        vertical-align: middle;\n",
       "    }\n",
       "\n",
       "    .dataframe tbody tr th {\n",
       "        vertical-align: top;\n",
       "    }\n",
       "\n",
       "    .dataframe thead th {\n",
       "        text-align: right;\n",
       "    }\n",
       "</style>\n",
       "<table border=\"1\" class=\"dataframe\">\n",
       "  <thead>\n",
       "    <tr style=\"text-align: right;\">\n",
       "      <th>country</th>\n",
       "      <th>France</th>\n",
       "      <th>Portugal</th>\n",
       "      <th>Germany</th>\n",
       "      <th>Japan</th>\n",
       "    </tr>\n",
       "  </thead>\n",
       "  <tbody>\n",
       "    <tr>\n",
       "      <th>1990 [YR1990]</th>\n",
       "      <td>6.117208</td>\n",
       "      <td>4.113904</td>\n",
       "      <td>12.026609</td>\n",
       "      <td>8.831776</td>\n",
       "    </tr>\n",
       "    <tr>\n",
       "      <th>1995 [YR1995]</th>\n",
       "      <td>5.915834</td>\n",
       "      <td>5.055766</td>\n",
       "      <td>10.708630</td>\n",
       "      <td>9.332839</td>\n",
       "    </tr>\n",
       "    <tr>\n",
       "      <th>2000 [YR2000]</th>\n",
       "      <td>6.125508</td>\n",
       "      <td>5.992285</td>\n",
       "      <td>10.099316</td>\n",
       "      <td>9.323416</td>\n",
       "    </tr>\n",
       "    <tr>\n",
       "      <th>2005 [YR2005]</th>\n",
       "      <td>6.025069</td>\n",
       "      <td>6.233261</td>\n",
       "      <td>9.729424</td>\n",
       "      <td>9.491989</td>\n",
       "    </tr>\n",
       "    <tr>\n",
       "      <th>2010 [YR2010]</th>\n",
       "      <td>5.348198</td>\n",
       "      <td>4.817887</td>\n",
       "      <td>9.453400</td>\n",
       "      <td>9.030062</td>\n",
       "    </tr>\n",
       "    <tr>\n",
       "      <th>2015 [YR2015]</th>\n",
       "      <td>4.677807</td>\n",
       "      <td>4.812670</td>\n",
       "      <td>9.087291</td>\n",
       "      <td>9.276629</td>\n",
       "    </tr>\n",
       "  </tbody>\n",
       "</table>\n",
       "</div>"
      ],
      "text/plain": [
       "country          France  Portugal    Germany     Japan\n",
       "1990 [YR1990]  6.117208  4.113904  12.026609  8.831776\n",
       "1995 [YR1995]  5.915834  5.055766  10.708630  9.332839\n",
       "2000 [YR2000]  6.125508  5.992285  10.099316  9.323416\n",
       "2005 [YR2005]  6.025069  6.233261   9.729424  9.491989\n",
       "2010 [YR2010]  5.348198  4.817887   9.453400  9.030062\n",
       "2015 [YR2015]  4.677807  4.812670   9.087291  9.276629"
      ]
     },
     "execution_count": 25,
     "metadata": {},
     "output_type": "execute_result"
    }
   ],
   "source": [
    "df1[years].T"
   ]
  },
  {
   "cell_type": "code",
   "execution_count": null,
   "id": "ce0442dc",
   "metadata": {},
   "outputs": [],
   "source": []
  },
  {
   "cell_type": "code",
   "execution_count": 26,
   "id": "b3cec360",
   "metadata": {},
   "outputs": [
    {
     "data": {
      "text/html": [
       "<div>\n",
       "<style scoped>\n",
       "    .dataframe tbody tr th:only-of-type {\n",
       "        vertical-align: middle;\n",
       "    }\n",
       "\n",
       "    .dataframe tbody tr th {\n",
       "        vertical-align: top;\n",
       "    }\n",
       "\n",
       "    .dataframe thead th {\n",
       "        text-align: right;\n",
       "    }\n",
       "</style>\n",
       "<table border=\"1\" class=\"dataframe\">\n",
       "  <thead>\n",
       "    <tr style=\"text-align: right;\">\n",
       "      <th>country</th>\n",
       "      <th>France</th>\n",
       "      <th>Portugal</th>\n",
       "      <th>Germany</th>\n",
       "      <th>Japan</th>\n",
       "    </tr>\n",
       "  </thead>\n",
       "  <tbody>\n",
       "    <tr>\n",
       "      <th>1990 [YR1990]</th>\n",
       "      <td>50390.0</td>\n",
       "      <td>5260.0</td>\n",
       "      <td>52060.0</td>\n",
       "      <td>19000.0</td>\n",
       "    </tr>\n",
       "    <tr>\n",
       "      <th>1995 [YR1995]</th>\n",
       "      <td>47310.0</td>\n",
       "      <td>4980.0</td>\n",
       "      <td>41150.0</td>\n",
       "      <td>19240.0</td>\n",
       "    </tr>\n",
       "    <tr>\n",
       "      <th>2000 [YR2000]</th>\n",
       "      <td>48120.0</td>\n",
       "      <td>4980.0</td>\n",
       "      <td>37960.0</td>\n",
       "      <td>16900.0</td>\n",
       "    </tr>\n",
       "    <tr>\n",
       "      <th>2005 [YR2005]</th>\n",
       "      <td>44430.0</td>\n",
       "      <td>4660.0</td>\n",
       "      <td>34830.0</td>\n",
       "      <td>16220.0</td>\n",
       "    </tr>\n",
       "    <tr>\n",
       "      <th>2010 [YR2010]</th>\n",
       "      <td>43900.0</td>\n",
       "      <td>4450.0</td>\n",
       "      <td>34200.0</td>\n",
       "      <td>15800.0</td>\n",
       "    </tr>\n",
       "    <tr>\n",
       "      <th>2015 [YR2015]</th>\n",
       "      <td>43010.0</td>\n",
       "      <td>4750.0</td>\n",
       "      <td>34260.0</td>\n",
       "      <td>14770.0</td>\n",
       "    </tr>\n",
       "  </tbody>\n",
       "</table>\n",
       "</div>"
      ],
      "text/plain": [
       "country         France  Portugal  Germany    Japan\n",
       "1990 [YR1990]  50390.0    5260.0  52060.0  19000.0\n",
       "1995 [YR1995]  47310.0    4980.0  41150.0  19240.0\n",
       "2000 [YR2000]  48120.0    4980.0  37960.0  16900.0\n",
       "2005 [YR2005]  44430.0    4660.0  34830.0  16220.0\n",
       "2010 [YR2010]  43900.0    4450.0  34200.0  15800.0\n",
       "2015 [YR2015]  43010.0    4750.0  34260.0  14770.0"
      ]
     },
     "execution_count": 26,
     "metadata": {},
     "output_type": "execute_result"
    }
   ],
   "source": [
    "df2[years].T"
   ]
  }
 ],
 "metadata": {
  "kernelspec": {
   "display_name": "Python 3 (ipykernel)",
   "language": "python",
   "name": "python3"
  },
  "language_info": {
   "codemirror_mode": {
    "name": "ipython",
    "version": 3
   },
   "file_extension": ".py",
   "mimetype": "text/x-python",
   "name": "python",
   "nbconvert_exporter": "python",
   "pygments_lexer": "ipython3",
   "version": "3.9.12"
  }
 },
 "nbformat": 4,
 "nbformat_minor": 5
}
